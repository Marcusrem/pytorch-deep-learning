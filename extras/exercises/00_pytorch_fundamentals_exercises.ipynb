{
  "nbformat": 4,
  "nbformat_minor": 0,
  "metadata": {
    "colab": {
      "name": "00_pytorch_fundamentals_exercises.ipynb",
      "provenance": [],
      "gpuType": "T4"
    },
    "kernelspec": {
      "name": "python3",
      "display_name": "Python 3"
    },
    "language_info": {
      "name": "python"
    },
    "accelerator": "GPU"
  },
  "cells": [
    {
      "cell_type": "markdown",
      "source": [
        "# 00. PyTorch Fundamentals Exercises\n",
        "\n",
        "### 1. Documentation reading\n",
        "\n",
        "A big part of deep learning (and learning to code in general) is getting familiar with the documentation of a certain framework you're using. We'll be using the PyTorch documentation a lot throughout the rest of this course. So I'd recommend spending 10-minutes reading the following (it's okay if you don't get some things for now, the focus is not yet full understanding, it's awareness):\n",
        "  * The documentation on [`torch.Tensor`](https://pytorch.org/docs/stable/tensors.html#torch-tensor).\n",
        "  * The documentation on [`torch.cuda`](https://pytorch.org/docs/master/notes/cuda.html#cuda-semantics).\n",
        "\n"
      ],
      "metadata": {
        "id": "AzDBM_v4iMe7"
      }
    },
    {
      "cell_type": "code",
      "source": [
        "# No code solution (reading)"
      ],
      "metadata": {
        "id": "bGD0oD8Kizak"
      },
      "execution_count": null,
      "outputs": []
    },
    {
      "cell_type": "markdown",
      "source": [
        "### 2. Create a random tensor with shape `(7, 7)`.\n"
      ],
      "metadata": {
        "id": "__iXqqz-ioUJ"
      }
    },
    {
      "cell_type": "code",
      "source": [
        "# Import torch\n",
        "import torch\n",
        "\n",
        "# Create random tensor\n",
        "tensor = torch.rand(7,7)\n",
        "tensor"
      ],
      "metadata": {
        "id": "6pUq9Dc8i2L7",
        "outputId": "a6081379-f7dd-4b2f-9809-eebec0ea5d42",
        "colab": {
          "base_uri": "https://localhost:8080/"
        }
      },
      "execution_count": 1,
      "outputs": [
        {
          "output_type": "execute_result",
          "data": {
            "text/plain": [
              "tensor([[0.9473, 0.4796, 0.8238, 0.2162, 0.4292, 0.2930, 0.4013],\n",
              "        [0.0909, 0.9036, 0.1976, 0.7709, 0.3027, 0.3923, 0.5768],\n",
              "        [0.2172, 0.4720, 0.0324, 0.1137, 0.2709, 0.5308, 0.0708],\n",
              "        [0.4380, 0.2407, 0.6845, 0.4044, 0.4465, 0.0734, 0.6406],\n",
              "        [0.6649, 0.3130, 0.4927, 0.1371, 0.5819, 0.9410, 0.6062],\n",
              "        [0.3131, 0.9110, 0.0606, 0.9862, 0.9770, 0.1302, 0.8300],\n",
              "        [0.3633, 0.5432, 0.0048, 0.7753, 0.5374, 0.2534, 0.7470]])"
            ]
          },
          "metadata": {},
          "execution_count": 1
        }
      ]
    },
    {
      "cell_type": "markdown",
      "source": [
        "### 3. Perform a matrix multiplication on the tensor from 2 with another random tensor with shape `(1, 7)` (hint: you may have to transpose the second tensor)."
      ],
      "metadata": {
        "id": "9-XxvRLfiqkR"
      }
    },
    {
      "cell_type": "code",
      "source": [
        "# Create another random tensor\n",
        "tensor2= torch.rand(1,7)\n",
        "# Perform matrix multiplication\n",
        "torch.mm(tensor2, tensor)"
      ],
      "metadata": {
        "id": "NcLqR0Sbi_vT",
        "outputId": "1ca6c5b2-d54e-4847-8ae8-b4171ee48654",
        "colab": {
          "base_uri": "https://localhost:8080/"
        }
      },
      "execution_count": 10,
      "outputs": [
        {
          "output_type": "execute_result",
          "data": {
            "text/plain": [
              "tensor([[1.5162, 1.4619, 1.2879, 0.9661, 1.1961, 1.2263, 1.2790]])"
            ]
          },
          "metadata": {},
          "execution_count": 10
        }
      ]
    },
    {
      "cell_type": "markdown",
      "source": [
        "### 4. Set the random seed to `0` and do 2 & 3 over again.\n",
        "\n",
        "The output should be:\n",
        "```\n",
        "(tensor([[1.8542],\n",
        "         [1.9611],\n",
        "         [2.2884],\n",
        "         [3.0481],\n",
        "         [1.7067],\n",
        "         [2.5290],\n",
        "         [1.7989]]), torch.Size([7, 1]))\n",
        "```"
      ],
      "metadata": {
        "id": "eiutdKUFiryU"
      }
    },
    {
      "cell_type": "code",
      "source": [
        "# Set manual seed\n",
        "random_seed=0\n",
        "# Create two random tensors\n",
        "torch.manual_seed(random_seed)\n",
        "tensor_a=torch.rand(7,7)\n",
        "torch.manual_seed(random_seed)\n",
        "tensor_b=torch.rand(1,7)\n",
        "\n",
        "# Matrix multiply tensors\n",
        "mul= torch.mm(tensor_a,tensor_b.T)\n",
        "mul, mul.shape"
      ],
      "metadata": {
        "id": "D-lOWI_1jRMm",
        "outputId": "d563b732-f901-40af-ab64-e34849ca543c",
        "colab": {
          "base_uri": "https://localhost:8080/"
        }
      },
      "execution_count": 49,
      "outputs": [
        {
          "output_type": "execute_result",
          "data": {
            "text/plain": [
              "(tensor([[1.5985],\n",
              "         [1.1173],\n",
              "         [1.2741],\n",
              "         [1.6838],\n",
              "         [0.8279],\n",
              "         [1.0347],\n",
              "         [1.2498]]),\n",
              " torch.Size([7, 1]))"
            ]
          },
          "metadata": {},
          "execution_count": 49
        }
      ]
    },
    {
      "cell_type": "markdown",
      "source": [
        "### 5. Speaking of random seeds, we saw how to set it with `torch.manual_seed()` but is there a GPU equivalent? (hint: you'll need to look into the documentation for `torch.cuda` for this one)\n",
        "  * If there is, set the GPU random seed to `1234`."
      ],
      "metadata": {
        "id": "ezY6ks9Cis37"
      }
    },
    {
      "cell_type": "code",
      "source": [
        "# Set random seed on the GPU\n"
      ],
      "metadata": {
        "id": "_LKWcfSTjp00"
      },
      "execution_count": null,
      "outputs": []
    },
    {
      "cell_type": "markdown",
      "source": [
        "\n",
        "### 6. Create two random tensors of shape `(2, 3)` and send them both to the GPU (you'll need access to a GPU for this). Set `torch.manual_seed(1234)` when creating the tensors (this doesn't have to be the GPU random seed). The output should be something like:\n",
        "\n",
        "```\n",
        "Device: cuda\n",
        "(tensor([[0.0290, 0.4019, 0.2598],\n",
        "         [0.3666, 0.0583, 0.7006]], device='cuda:0'),\n",
        " tensor([[0.0518, 0.4681, 0.6738],\n",
        "         [0.3315, 0.7837, 0.5631]], device='cuda:0'))\n",
        "```"
      ],
      "metadata": {
        "id": "Ir9qSaj6it4n"
      }
    },
    {
      "cell_type": "code",
      "source": [
        "# Set random seed\n",
        "torch.cuda.manual_seed(1234)\n",
        "torch.cuda.set_device(0)\n",
        "# Check for access to GPU\n",
        "device= \"cuda\" if torch.cuda.is_available() else \"cpu\"\n",
        "print(f\"Device: {device}\")\n",
        "# Create two random tensors on GPU\n",
        "torch.cuda.manual_seed(1234)\n",
        "tensor_c = torch.rand(2,3).to(device)\n",
        "torch.cuda.manual_seed(1234)\n",
        "tensor_d = torch.rand(2,3).to(device)\n",
        "tensor_c, tensor_d\n"
      ],
      "metadata": {
        "id": "azXExiFZj5nm",
        "outputId": "a2f6555a-d7be-4c8d-a4c5-e296f5a753aa",
        "colab": {
          "base_uri": "https://localhost:8080/"
        }
      },
      "execution_count": 58,
      "outputs": [
        {
          "output_type": "stream",
          "name": "stdout",
          "text": [
            "Device: cuda\n"
          ]
        },
        {
          "output_type": "execute_result",
          "data": {
            "text/plain": [
              "(tensor([[0.7529, 0.8579, 0.6870],\n",
              "         [0.0051, 0.1757, 0.7497]], device='cuda:0'),\n",
              " tensor([[0.6047, 0.1100, 0.2121],\n",
              "         [0.9704, 0.8369, 0.2820]], device='cuda:0'))"
            ]
          },
          "metadata": {},
          "execution_count": 58
        }
      ]
    },
    {
      "cell_type": "markdown",
      "source": [
        "\n",
        "### 7. Perform a matrix multiplication on the tensors you created in 6 (again, you may have to adjust the shapes of one of the tensors).\n",
        "\n",
        "The output should look like:\n",
        "```\n",
        "(tensor([[0.3647, 0.4709],\n",
        "         [0.5184, 0.5617]], device='cuda:0'), torch.Size([2, 2]))\n",
        "```"
      ],
      "metadata": {
        "id": "5TlAxeiSiu1y"
      }
    },
    {
      "cell_type": "code",
      "source": [
        "# Perform matmul on tensor_A and tensor_B\n",
        "mul2=torch.mm(tensor_c,tensor_d.T)\n",
        "mul2,mul2.shape"
      ],
      "metadata": {
        "id": "fAeG7ox0lHEO",
        "outputId": "b8f0cf80-35bb-41d4-b94b-cf822b384024",
        "colab": {
          "base_uri": "https://localhost:8080/"
        }
      },
      "execution_count": 47,
      "outputs": [
        {
          "output_type": "execute_result",
          "data": {
            "text/plain": [
              "(tensor([[1.1941, 0.6911],\n",
              "         [0.3175, 0.2087]], device='cuda:0'),\n",
              " torch.Size([2, 2]))"
            ]
          },
          "metadata": {},
          "execution_count": 47
        }
      ]
    },
    {
      "cell_type": "markdown",
      "source": [
        "### 8. Find the maximum and minimum values of the output of 7."
      ],
      "metadata": {
        "id": "G7qfa5CSivwg"
      }
    },
    {
      "cell_type": "code",
      "source": [
        "# Find max\n",
        "max= torch.max(mul2)\n",
        "# Find min\n",
        "min= torch.min(mul2)\n",
        "max,min"
      ],
      "metadata": {
        "id": "Fu8_3mZpllOd",
        "outputId": "479d6132-727d-4980-a819-82d0466ab10e",
        "colab": {
          "base_uri": "https://localhost:8080/"
        }
      },
      "execution_count": 60,
      "outputs": [
        {
          "output_type": "execute_result",
          "data": {
            "text/plain": [
              "(tensor(1.1941, device='cuda:0'), tensor(0.2087, device='cuda:0'))"
            ]
          },
          "metadata": {},
          "execution_count": 60
        }
      ]
    },
    {
      "cell_type": "markdown",
      "source": [
        "### 9. Find the maximum and minimum index values of the output of 7."
      ],
      "metadata": {
        "id": "wrTj5FgNiw47"
      }
    },
    {
      "cell_type": "code",
      "source": [
        "# Find arg max\n",
        "max2= torch.argmax(mul2)\n",
        "\n",
        "# Find arg min\n",
        "min2=torch.argmin(mul2)\n",
        "max2,min2"
      ],
      "metadata": {
        "id": "CCEKt4K2lsfQ",
        "outputId": "c8fb459d-2b91-4b80-a210-b46275657147",
        "colab": {
          "base_uri": "https://localhost:8080/"
        }
      },
      "execution_count": 66,
      "outputs": [
        {
          "output_type": "execute_result",
          "data": {
            "text/plain": [
              "(tensor(0, device='cuda:0'),\n",
              " tensor(3, device='cuda:0'),\n",
              " tensor(0.2087, device='cuda:0'))"
            ]
          },
          "metadata": {},
          "execution_count": 66
        }
      ]
    },
    {
      "cell_type": "markdown",
      "source": [
        "\n",
        "### 10. Make a random tensor with shape `(1, 1, 1, 10)` and then create a new tensor with all the `1` dimensions removed to be left with a tensor of shape `(10)`. Set the seed to `7` when you create it and print out the first tensor and it's shape as well as the second tensor and it's shape.\n",
        "\n",
        "The output should look like:\n",
        "\n",
        "```\n",
        "tensor([[[[0.5349, 0.1988, 0.6592, 0.6569, 0.2328, 0.4251, 0.2071, 0.6297,\n",
        "           0.3653, 0.8513]]]]) torch.Size([1, 1, 1, 10])\n",
        "tensor([0.5349, 0.1988, 0.6592, 0.6569, 0.2328, 0.4251, 0.2071, 0.6297, 0.3653,\n",
        "        0.8513]) torch.Size([10])\n",
        "```"
      ],
      "metadata": {
        "id": "hmeybz4uixy7"
      }
    },
    {
      "cell_type": "code",
      "source": [
        "# Set seed\n",
        "torch.cuda.manual_seed(7)\n",
        "\n",
        "# Create random tensor\n",
        "tensor_f = torch.rand(1,1,1,10)\n",
        "\n",
        "# Remove single dimensions\n",
        "tensor_g=tensor_f.squeeze()\n",
        "\n",
        "# Print out tensors and their shapes\n",
        "print(f\"tensor_f: {tensor_f}\")\n",
        "print(f\"tensfor_f_shape: {tensor_f.shape}\")\n",
        "print(f\"tensor_g:{tensor_g}\")\n",
        "print(f\"tensor_g_shape: {tensor_g.shape}\")"
      ],
      "metadata": {
        "id": "TQ9zbRzVl1jV",
        "outputId": "a7ee7640-b73a-4874-8682-5b4e86b0c5c4",
        "colab": {
          "base_uri": "https://localhost:8080/"
        }
      },
      "execution_count": 69,
      "outputs": [
        {
          "output_type": "stream",
          "name": "stdout",
          "text": [
            "tensor_f: tensor([[[[0.9537, 0.8426, 0.0784, 0.3756, 0.5226, 0.5730, 0.6186, 0.6962,\n",
            "           0.5300, 0.2560]]]])\n",
            "tensfor_f_shape: torch.Size([1, 1, 1, 10])\n",
            "tensor_g:tensor([0.9537, 0.8426, 0.0784, 0.3756, 0.5226, 0.5730, 0.6186, 0.6962, 0.5300,\n",
            "        0.2560])\n",
            "tensor_g_shape: torch.Size([10])\n"
          ]
        }
      ]
    },
    {
      "cell_type": "code",
      "source": [],
      "metadata": {
        "id": "0HaL7IBHbRVU"
      },
      "execution_count": null,
      "outputs": []
    }
  ]
}